{
 "cells": [
  {
   "cell_type": "code",
   "execution_count": 18,
   "metadata": {},
   "outputs": [],
   "source": [
    "# Gabriel Santos IS-211 10/17/2020\n",
    "import sqlite3 as lite\n",
    "import sys\n",
    "\n",
    "con = lite.connect('pets.db')\n",
    "\n",
    "with con:\n",
    "\n",
    "    cursor = con.cursor()\n",
    "    cursor.execute(\"DROP TABLE IF EXISTS person;\")\n",
    "    cursor.execute(\"DROP TABLE IF EXISTS pet;\")\n",
    "    cursor.execute(\"DROP TABLE IF EXISTS person_pet;\")\n",
    "    \n",
    "    cursor.execute(\"CREATE TABLE person (id INTEGER PRIMARY KEY,first_name TEXT,last_name TEXT,age INTEGER);\")\n",
    "    cursor.execute(\"CREATE TABLE pet (id INTEGER PRIMARY KEY,name TEXT,breed TEXT,age INTEGER,dead INTEGER);\")\n",
    "    cursor.execute(\"CREATE TABLE person_pet (person_id INTEGER,pet_id INTEGER);\")\n",
    "    \n",
    "    cursor.execute(\"INSERT INTO person VALUES(1,'James','Smith',41)\")\n",
    "    cursor.execute(\"INSERT INTO person VALUES(2,'Diana','Greene',23)\")\n",
    "    cursor.execute(\"INSERT INTO person VALUES(3,'Sara','White',27)\")\n",
    "    cursor.execute(\"INSERT INTO person VALUES(4,'William','Gibson',23)\")\n",
    "    \n",
    "    cursor.execute(\"INSERT INTO pet VALUES(1,'Rusty','Dalmation',4,1)\")\n",
    "    cursor.execute(\"INSERT INTO pet VALUES(2,'Bella','Alaskan Malmute',3,0)\")\n",
    "    cursor.execute(\"INSERT INTO pet VALUES(3,'Max','Cocker Spaniel',1,0)\")\n",
    "    cursor.execute(\"INSERT INTO pet VALUES(4, 'Rocky', 'Beagle', 7, 0)\")\n",
    "    cursor.execute(\"INSERT INTO pet VALUES(5, 'Rufus', 'Cocker Spaniel', 1, 0)\")\n",
    "    cursor.execute(\"INSERT INTO pet VALUES(6, 'Spot', 'Bloodhound', 2, 1)\")\n",
    "    \n",
    "    cursor.execute(\"INSERT INTO person_pet VALUES(1,1)\")\n",
    "    cursor.execute(\"INSERT INTO person_pet VALUES(1,2)\")\n",
    "    cursor.execute(\"INSERT INTO person_pet VALUES(2,3)\")\n",
    "    cursor.execute(\"INSERT INTO person_pet VALUES(2,4)\")\n",
    "    cursor.execute(\"INSERT INTO person_pet VALUES(3,5)\")\n",
    "    cursor.execute(\"INSERT INTO person_pet VALUES(4,6)\")"
   ]
  },
  {
   "cell_type": "code",
   "execution_count": 19,
   "metadata": {},
   "outputs": [
    {
     "data": {
      "text/plain": [
       "[(1, 'James', 'Smith', 41),\n",
       " (2, 'Diana', 'Greene', 23),\n",
       " (3, 'Sara', 'White', 27),\n",
       " (4, 'William', 'Gibson', 23)]"
      ]
     },
     "execution_count": 19,
     "metadata": {},
     "output_type": "execute_result"
    }
   ],
   "source": [
    "cursor.execute(\"SELECT * FROM person\")\n",
    "cursor.fetchall()"
   ]
  },
  {
   "cell_type": "code",
   "execution_count": 20,
   "metadata": {},
   "outputs": [
    {
     "data": {
      "text/plain": [
       "[(1, 'Rusty', 'Dalmation', 4, 1),\n",
       " (2, 'Bella', 'Alaskan Malmute', 3, 0),\n",
       " (3, 'Max', 'Cocker Spaniel', 1, 0),\n",
       " (4, 'Rocky', 'Beagle', 7, 0),\n",
       " (5, 'Rufus', 'Cocker Spaniel', 1, 0),\n",
       " (6, 'Spot', 'Bloodhound', 2, 1)]"
      ]
     },
     "execution_count": 20,
     "metadata": {},
     "output_type": "execute_result"
    }
   ],
   "source": [
    "cursor.execute(\"SELECT * FROM pet\")\n",
    "cursor.fetchall()"
   ]
  },
  {
   "cell_type": "code",
   "execution_count": 21,
   "metadata": {},
   "outputs": [
    {
     "data": {
      "text/plain": [
       "[(1, 1), (1, 2), (2, 3), (2, 4), (3, 5), (4, 6)]"
      ]
     },
     "execution_count": 21,
     "metadata": {},
     "output_type": "execute_result"
    }
   ],
   "source": [
    "cursor.execute(\"SELECT * FROM person_pet\")\n",
    "cursor.fetchall()"
   ]
  },
  {
   "cell_type": "code",
   "execution_count": 24,
   "metadata": {},
   "outputs": [
    {
     "name": "stdout",
     "output_type": "stream",
     "text": [
      "ID Number? Press '-1' to exit \n",
      "1\n",
      "James Smith who is 41 years old\n",
      "owned Rusty, a Dalmation that was 4 years old\n",
      "owns Bella, a Alaskan Malmute that is 3 years old\n",
      "What ID are you looking for? Enter '-1' to exit \n",
      "2\n",
      "Diana Greene who is 23 years old\n",
      "owns Max, a Cocker Spaniel that is 1 years old\n",
      "owns Rocky, a Beagle that is 7 years old\n",
      "What ID are you looking for? Enter '-1' to exit \n",
      "3\n",
      "Sara White who is 27 years old\n",
      "owns Rufus, a Cocker Spaniel that is 1 years old\n",
      "What ID are you looking for? Enter '-1' to exit \n",
      "4\n",
      "William Gibson who is 23 years old\n",
      "owned Spot, a Bloodhound that was 2 years old\n",
      "What ID are you looking for? Enter '-1' to exit \n",
      "5\n",
      "That user doesn't exist, try again\n",
      "ID Number? Press '-1' to exit \n",
      "-1\n"
     ]
    }
   ],
   "source": [
    "def print_names():\n",
    "    conn = lite.connect('pets.db')\n",
    "    answer = input(\"ID Number? Press '-1' to exit \\n\")\n",
    "    while answer != '-1':\n",
    "        with con:\n",
    "            try:\n",
    "                cursor = conn.cursor()\n",
    "                per_data = cursor.execute(\"SELECT first_name,last_name,age FROM person WHERE person.id=?\",[answer])\n",
    "                per_rows = per_data.fetchone()\n",
    "                \n",
    "                pet_data = cursor.execute(\"SELECT pet.name,pet.breed,pet.age,pet.dead FROM pet INNER JOIN person_pet ON person_pet.pet_id=pet.id INNER JOIN person ON person.id=person_pet.person_id WHERE person.id=?\",[answer])\n",
    "                pet_rows = pet_data.fetchall()\n",
    "                \n",
    "                if(per_rows==None):\n",
    "                    print(\"That user doesn't exist, try again\")\n",
    "                    answer = input(\"ID Number? Press '-1' to exit \\n\")\n",
    "                \n",
    "                else:\n",
    "                    \n",
    "                    print(\"{} {} who is {} years old\".format(per_rows[0],per_rows[1],per_rows[2]))\n",
    "                    \n",
    "                    for pet_pos in pet_rows:\n",
    "                                if pet_pos[3] == 1:\n",
    "                                    w = 'owned'\n",
    "                                    w2 = 'was'\n",
    "                                else:\n",
    "                                    w = 'owns'\n",
    "                                    w2= 'is'\n",
    "                                \n",
    "                                print(\"{} {}, a {} that {} {} years old\".format(w,pet_pos[0],pet_pos[1],w2,pet_pos[2]))\n",
    "                    answer = input(\"What ID are you looking for? Enter '-1' to exit \\n\")\n",
    "                    \n",
    "            except lite.Error as err:\n",
    "                print(\"Error: {}\".format(err))\n",
    "                sys.exit()\n",
    "    conn.close()\n",
    "\n",
    "if __name__ == '__main__':\n",
    "    print_names()"
   ]
  },
  {
   "cell_type": "code",
   "execution_count": null,
   "metadata": {},
   "outputs": [],
   "source": []
  }
 ],
 "metadata": {
  "kernelspec": {
   "display_name": "Python 3",
   "language": "python",
   "name": "python3"
  },
  "language_info": {
   "codemirror_mode": {
    "name": "ipython",
    "version": 3
   },
   "file_extension": ".py",
   "mimetype": "text/x-python",
   "name": "python",
   "nbconvert_exporter": "python",
   "pygments_lexer": "ipython3",
   "version": "3.8.3"
  }
 },
 "nbformat": 4,
 "nbformat_minor": 4
}
